{
 "cells": [
  {
   "cell_type": "markdown",
   "metadata": {},
   "source": [
    "Defining functions in Python "
   ]
  },
  {
   "cell_type": "code",
   "execution_count": 1,
   "metadata": {},
   "outputs": [],
   "source": [
    "def celsius_to_fahr(temp):\n",
    "    return 9/5*temp+32"
   ]
  },
  {
   "cell_type": "code",
   "execution_count": 2,
   "metadata": {},
   "outputs": [],
   "source": [
    "freezing_point = celsius_to_fahr(0) #converts celsius to farh"
   ]
  },
  {
   "cell_type": "code",
   "execution_count": 3,
   "metadata": {},
   "outputs": [
    {
     "name": "stdout",
     "output_type": "stream",
     "text": [
      "the freezing point of water in Fahrenheint is 32.0\n"
     ]
    }
   ],
   "source": [
    "print(\"the freezing point of water in Fahrenheint is\", freezing_point)"
   ]
  },
  {
   "cell_type": "code",
   "execution_count": 4,
   "metadata": {},
   "outputs": [
    {
     "name": "stdout",
     "output_type": "stream",
     "text": [
      "thee boiling point of water in Fahr is 212.0\n"
     ]
    }
   ],
   "source": [
    "print(\"thee boiling point of water in Fahr is\", celsius_to_fahr(100))"
   ]
  },
  {
   "cell_type": "code",
   "execution_count": 5,
   "metadata": {},
   "outputs": [],
   "source": [
    "#another example\n",
    "def kelvins_to_celsius(temp_kelvins): \n",
    "    return temp_kelvins - 273.15"
   ]
  },
  {
   "cell_type": "code",
   "execution_count": 6,
   "metadata": {},
   "outputs": [],
   "source": [
    "absolute_zero = kelvins_to_celsius(temp_kelvins=0) #here set the value for one parameter"
   ]
  },
  {
   "cell_type": "markdown",
   "metadata": {},
   "source": [
    "Here with default value 100 "
   ]
  },
  {
   "cell_type": "code",
   "execution_count": 7,
   "metadata": {},
   "outputs": [],
   "source": [
    "def kelvins_to_celsius(temp_kelvins=100): \n",
    "    return temp_kelvins - 273.15"
   ]
  },
  {
   "cell_type": "code",
   "execution_count": 8,
   "metadata": {},
   "outputs": [],
   "source": [
    "absolute_100 = kelvins_to_celsius()"
   ]
  },
  {
   "cell_type": "code",
   "execution_count": 9,
   "metadata": {},
   "outputs": [
    {
     "name": "stdout",
     "output_type": "stream",
     "text": [
      "Absolute 100 in Celsius is -173.14999999999998\n"
     ]
    }
   ],
   "source": [
    "print(\"Absolute 100 in Celsius is\", absolute_100 )"
   ]
  },
  {
   "cell_type": "markdown",
   "metadata": {},
   "source": [
    "Let's see how things are going so far with functions. In the Python cell below, please:\n",
    "\n",
    "Create a new function called hello with 2 parameters\n",
    "Parameter 1 should be called name and you should assign some text to this parameter this when using the function\n",
    "Parameter 2 should be called age and you should provide a number value for this parameter when using the function\n",
    "When using your function, the value that is returned should be a character string stating the name and age that were provided, which you can assign to a variable called output. Printing out output should produce something like the following:\n",
    "\n",
    "print(output)\n",
    "'Hello, my name is Dave. I am 39 years old.'"
   ]
  },
  {
   "cell_type": "code",
   "execution_count": 14,
   "metadata": {},
   "outputs": [],
   "source": [
    "def hello(name,age):\n",
    "    return \"Hello my name is \" + name + \". I am \" +str(age) +\" years old.\" "
   ]
  },
  {
   "cell_type": "code",
   "execution_count": 15,
   "metadata": {},
   "outputs": [
    {
     "name": "stdout",
     "output_type": "stream",
     "text": [
      "Hello my name is Anna. I am 37 years old.\n"
     ]
    }
   ],
   "source": [
    "output= hello(name=\"Anna\", age=37)\n",
    "print(output)"
   ]
  },
  {
   "cell_type": "code",
   "execution_count": null,
   "metadata": {},
   "outputs": [],
   "source": [
    "def kelvins_to_fahr(temp_kelvins):\n",
    "    temp_celsius = kelvins_to_celsius(temp_kelvins)\n",
    "    temp_fahr = celsius_to_fahr(temp_celsius)\n",
    "    return temp_fahr\n",
    "    "
   ]
  }
 ],
 "metadata": {
  "kernelspec": {
   "display_name": "Python 3",
   "language": "python",
   "name": "python3"
  },
  "language_info": {
   "codemirror_mode": {
    "name": "ipython",
    "version": 3
   },
   "file_extension": ".py",
   "mimetype": "text/x-python",
   "name": "python",
   "nbconvert_exporter": "python",
   "pygments_lexer": "ipython3",
   "version": "3.7.3"
  }
 },
 "nbformat": 4,
 "nbformat_minor": 4
}
